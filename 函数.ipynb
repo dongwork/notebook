{
 "cells": [
  {
   "cell_type": "code",
   "execution_count": null,
   "metadata": {
    "vscode": {
     "languageId": "c"
    }
   },
   "outputs": [],
   "source": [
    "# 函数"
   ]
  },
  {
   "cell_type": "markdown",
   "metadata": {},
   "source": [
    "函数定义和调用"
   ]
  },
  {
   "cell_type": "code",
   "execution_count": 4,
   "metadata": {
    "vscode": {
     "languageId": "c"
    }
   },
   "outputs": [
    {
     "name": "stdout",
     "output_type": "stream",
     "text": [
      "请输入两个不相等的整数用空格隔开较大的一个是: 21"
     ]
    }
   ],
   "source": [
    "#include <stdio.h>\n",
    "int bigger(int a, int b)\n",
    "{\n",
    "  if (a > b)\n",
    "    return a;\n",
    "  else\n",
    "    return b;\n",
    "}\n",
    "int main()\n",
    "{\n",
    "  int num1 = 0, num2 = 0;\n",
    "  printf(\"请输入两个不相等的整数用空格隔开\\n\");\n",
    "  scanf(\"%d %d\", &num1, &num2);\n",
    "  int res = bigger(num1, num2);\n",
    "  printf(\"较大的一个是: %d\", res);\n",
    "}"
   ]
  },
  {
   "cell_type": "code",
   "execution_count": null,
   "metadata": {
    "vscode": {
     "languageId": "c"
    }
   },
   "outputs": [],
   "source": [
    "函数调用与返回\n",
    "\n"
   ]
  },
  {
   "cell_type": "code",
   "execution_count": 7,
   "metadata": {
    "vscode": {
     "languageId": "c"
    }
   },
   "outputs": [
    {
     "name": "stdout",
     "output_type": "stream",
     "text": [
      "num1 is 3,num2 is 5\n",
      "a is 3,b is 5\n",
      "a is 5,b is 3\n",
      "num1 is 3,num2 is 5\n"
     ]
    }
   ],
   "source": [
    "#include<stdio.h>\n",
    "void swap2Variable(int a,int b)\n",
    "{\n",
    "  printf(\"a is %d,b is %d\\n\",a,b);\n",
    "  int temp;\n",
    "  temp = a;\n",
    "  a = b;\n",
    "  b= temp;\n",
    "  printf(\"a is %d,b is %d\\n\",a,b);\n",
    "}\n",
    "\n",
    "int main()\n",
    "{\n",
    "  int num1 = 3,num2 = 5;\n",
    "  printf(\"num1 is %d,num2 is %d\\n\",num1,num2);\n",
    "  swap2Variable(num1,num2);\n",
    "  printf(\"num1 is %d,num2 is %d\\n\",num1,num2);    // 函数执行完成后，结果没有变化\n",
    "}"
   ]
  },
  {
   "cell_type": "markdown",
   "metadata": {},
   "source": [
    "# 传址调用\n",
    "\n",
    "地址类型是种复合类型，一般形式为 “类型*” \n",
    "\n",
    "```c\n",
    "int* pInt = NULL;\n",
    "double num1 = 8;\n",
    "double *pDouble = &num;\n",
    "```\n",
    "\n",
    "NULL 代表将该指针 初始化为空。\n",
    "\n",
    "不管类型如何，指针变量占据4个字节，但其指向的对象占据的字节数不一定为4（double类型的指针指向一片大小为8个字节的内存）。\n",
    "\n",
    "指针变量的值是指向的内存块的首地址（首字节的地址）\n",
    "\n",
    "`&num1` 中 符合& 是取地址符，返回的是变量num1的地址。"
   ]
  },
  {
   "cell_type": "code",
   "execution_count": 18,
   "metadata": {
    "vscode": {
     "languageId": "c"
    }
   },
   "outputs": [
    {
     "name": "stdout",
     "output_type": "stream",
     "text": [
      "num1 is 3, num2 is 5\n",
      "*a is 3, *b is 5. a is -2056069184, b is -2056069180\n",
      "*a is 5, *b is 3. a is -2056069184, b is -2056069180\n",
      "num1 is 5, num2 is 3\n"
     ]
    }
   ],
   "source": [
    "#include <stdio.h>\n",
    "void swap2Variable(int *a, int *b)\n",
    "{\n",
    "  printf(\"*a is %d, *b is %d. \", *a, *b);\n",
    "  printf(\"a is %d, b is %d\\n\", a, b);\n",
    "  int temp;\n",
    "  temp = *a;\n",
    "  *a = *b;\n",
    "  *b = temp;\n",
    "  printf(\"*a is %d, *b is %d. \", *a, *b);\n",
    "  printf(\"a is %d, b is %d\\n\", a, b);\n",
    "}\n",
    "\n",
    "int main()\n",
    "{\n",
    "  int num1 = 3, num2 = 5;\n",
    "  printf(\"num1 is %d, num2 is %d\\n\", num1, num2);\n",
    "  swap2Variable(&num1, &num2);\n",
    "  printf(\"num1 is %d, num2 is %d\\n\", num1, num2); // 函数执行完成后，结果没有变化\n",
    "}"
   ]
  }
 ],
 "metadata": {
  "kernelspec": {
   "display_name": "C",
   "language": "c",
   "name": "c"
  },
  "language_info": {
   "file_extension": ".c",
   "mimetype": "text/x-csrc",
   "name": "text/x-csrc"
  }
 },
 "nbformat": 4,
 "nbformat_minor": 2
}
