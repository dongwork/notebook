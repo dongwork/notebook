{
 "cells": [
  {
   "cell_type": "markdown",
   "metadata": {},
   "source": [
    "# 指针\n",
    "\n",
    "指针定义\n",
    "\n",
    "指针声明\n",
    "\n",
    "声明一个指针变量时，需要提供\n",
    "\n",
    "- 指针的类型。原则上指针类型应与其指向的数据类型一致，但也例外。\n",
    "- 指针变量名\n",
    "\n",
    "\n",
    "```c\n",
    "int* pInt;\n",
    "```\n",
    "\n",
    "```text\n",
    "类型* 指针变量名\n",
    "```\n",
    "\n",
    "在一行声明两个指针变量，后面的指针变量前也要加星号，（* 是跟变量名的）\n",
    "\n",
    "```c\n",
    "int* p1 = NULL, *p2 = NULL;\n",
    "```"
   ]
  },
  {
   "cell_type": "markdown",
   "metadata": {},
   "source": [
    "```c\n",
    "int a, *ap;     //  声明变量 a 和 整形指针变量ap\n",
    "double *dp, var;  // 声明double型指针变量和变量var\n",
    "```\n",
    "\n",
    "如果声明指针不知道指向何处，可以将其置于0，即C语言中提供的关键字。\n",
    "\n",
    "```c\n",
    "int * pInt = NULL;   // 声明整形指针变量 pInt 并赋初值为 NULL\n",
    "```\n",
    "\n",
    "如果要让指针变量指向某个变量，需要使用取地址运算符 `&`\n",
    "\n"
   ]
  },
  {
   "cell_type": "code",
   "execution_count": 22,
   "metadata": {
    "vscode": {
     "languageId": "c"
    }
   },
   "outputs": [
    {
     "name": "stdout",
     "output_type": "stream",
     "text": [
      "8"
     ]
    }
   ],
   "source": [
    "#include <stdio.h>\n",
    "int main(){\n",
    "  int *p =NULL;\n",
    "  printf(\"p占的内存字节数为 %d\",sizeof(p));\n",
    "  return 0;\n",
    "}"
   ]
  },
  {
   "cell_type": "markdown",
   "metadata": {},
   "source": [
    "## 取地址操作符\n",
    "\n",
    "取地址符号 & 用于返回某程序实体的地址信息。\n",
    "\n",
    "```c\n",
    "int num = 0;     // 声明整型变量num并赋初值为0\n",
    "int *p = &num;   // 将num的地址赋值给同类型的指针p\n",
    "```\n",
    "\n",
    "&num 返回的是变量num在内存中的地址信息，可以直接将此地址赋值给同类型的指针 p"
   ]
  },
  {
   "cell_type": "code",
   "execution_count": 26,
   "metadata": {
    "vscode": {
     "languageId": "c"
    }
   },
   "outputs": [
    {
     "name": "stdout",
     "output_type": "stream",
     "text": [
      "Inum 占据的内存字节大小: 4\n",
      "pInt 占据的内存字节大小: 8\n",
      "\n",
      "Snum 占据的内存字节大小: 2\n",
      "pShort 占据的内存字节大小: 8\n",
      "\n",
      "Dnum 占据的内存字节大小: 8\n",
      "pDouble 占据的内存字节大小: 8\n",
      "\n"
     ]
    }
   ],
   "source": [
    "#include<stdio.h>\n",
    "\n",
    "int main(){\n",
    "  int Inum = 0;\n",
    "  short Snum = 0;\n",
    "  double Dnum = 0;\n",
    "  int *pInt = &Inum;\n",
    "  short * pShort = &Snum;\n",
    "  double *pDouble = &Dnum;\n",
    "\n",
    "  printf(\"Inum 占据的内存字节大小: %d\\n\",sizeof(Inum));\n",
    "  printf(\"pInt 占据的内存字节大小: %d\\n\\n\",sizeof(pInt));\n",
    "\n",
    "  printf(\"Snum 占据的内存字节大小: %d\\n\",sizeof(Snum));\n",
    "  printf(\"pShort 占据的内存字节大小: %d\\n\\n\",sizeof(pShort));\n",
    "\n",
    "  printf(\"Dnum 占据的内存字节大小: %d\\n\",sizeof(Dnum));\n",
    "  printf(\"pDouble 占据的内存字节大小: %d\\n\\n\",sizeof(pDouble));\n",
    "}"
   ]
  },
  {
   "cell_type": "markdown",
   "metadata": {},
   "source": [
    "## 指向指针的指针\n",
    "\n",
    "\n",
    "指针变量也是变量，占据一定的内存空间，有地址，因此也可以用一个指针指向它，这称为**指向指针的指针**，或 **二级指针**\n",
    "\n",
    "可以通过 `**` 声明一个二级指针\n",
    "\n",
    "```c\n",
    "double num;\n",
    "double *pN = &num;   // 声明double 类型指针变量pInt，用num地址为其初始化\n",
    "double** ppN = &pN;  // 声明一个double类型的二级指针变量ppN，用pN地址为其初始化 \n",
    "```"
   ]
  }
 ],
 "metadata": {
  "kernelspec": {
   "display_name": "C",
   "language": "c",
   "name": "c"
  },
  "language_info": {
   "file_extension": ".c",
   "mimetype": "text/x-csrc",
   "name": "text/x-csrc"
  }
 },
 "nbformat": 4,
 "nbformat_minor": 2
}
