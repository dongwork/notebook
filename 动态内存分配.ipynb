{
 "cells": [
  {
   "cell_type": "markdown",
   "metadata": {},
   "source": [
    "## malloc 与 free 函数"
   ]
  },
  {
   "cell_type": "markdown",
   "metadata": {},
   "source": [
    "## malloc\n",
    "\n",
    "malloc 函数的基本调用格式\n",
    "\n",
    "```c\n",
    "void *malloc(unsigned int size);\n",
    "```\n",
    "\n",
    "执行成功，系统为程序开辟一块大小为size个内存字节的区域，并返回该区域的首地址。\n",
    "\n",
    "执行失败（比如内存不足），返回空指针 NULL。\n",
    "\n",
    "函数的返回值是 `void*`，用其值对其他类型指针赋值时，必须显示转换。\n",
    "\n",
    "申请的内存长度为 “`长度 x sizeof(类型)`”\n",
    "\n",
    "```c\n",
    "int *p = (int *)malloc(5*sizeof(int));\n",
    "```\n"
   ]
  },
  {
   "cell_type": "markdown",
   "metadata": {},
   "source": [
    "\n",
    "内存不一定总是成功，每次进行动态内存申请时进行防错处理是一个好的编程习惯\n",
    "\n",
    "```c\n",
    "int *p = (int *)malloc(5*sizeof(int))\n",
    "if(p ==NULL)\n",
    "{\n",
    "  /**内存申请失败时 */\n",
    "  ...\n",
    "}\n",
    "else\n",
    "{\n",
    "  /**内存申请成功时 */\n",
    "}\n",
    "```"
   ]
  },
  {
   "cell_type": "markdown",
   "metadata": {},
   "source": [
    "## free 函数\n",
    "\n",
    "```c\n",
    "void free(void *p);\n",
    "```\n",
    "\n",
    "p 是指向所申请内存块的指针。\n",
    "\n",
    "系统可以完成由其他类型指针向 void 型指针的转换。因此直接使用 free  指针，就可以实现内存释放。"
   ]
  },
  {
   "cell_type": "code",
   "execution_count": null,
   "metadata": {
    "vscode": {
     "languageId": "c"
    }
   },
   "outputs": [],
   "source": [
    "#include <stdio.h>\n",
    "#include <stdlib.h>\n",
    "\n",
    "int main()\n",
    "{\n",
    "//  声明一个 int 型指针p， 并申请一块动态内存， 用其首地址为 p 初始化\n",
    "  int *p = (int *)malloc(10 * sizeof(int));\n",
    "\n",
    "  if (p == NULL)\n",
    "  {\n",
    "    printf(\"内存申请失败\");\n",
    "    return 1;\n",
    "  }\n",
    "\n",
    "  int i = 0;\n",
    "  for (int i = 0; i < 10; i++)\n",
    "  {\n",
    "    // 对该块内存每个int 单元赋值\n",
    "    /**\n",
    "     * 采用 *(p+i), 未采用(p++)形式，避免了对指针p修改，方便后面的释放内存需要\n",
    "    */\n",
    "    *(p + i) = i;\n",
    "  }\n",
    "\n",
    "  for (int i = 0; i < 10; i++)\n",
    "  {\n",
    "    printf(\"%d \", *p + i);\n",
    "  }\n",
    "\n",
    "  free(p);  // 释放内存\n",
    "\n",
    "  return 0;\n",
    "}\n"
   ]
  },
  {
   "cell_type": "markdown",
   "metadata": {},
   "source": [
    "calloc 和free\n",
    "\n",
    "```c\n",
    "void *calloc (size_t num, size_t size);\n",
    "```\n",
    "\n",
    "calloc 函数返回类型也是 void* "
   ]
  }
 ],
 "metadata": {
  "language_info": {
   "name": "python"
  }
 },
 "nbformat": 4,
 "nbformat_minor": 2
}
