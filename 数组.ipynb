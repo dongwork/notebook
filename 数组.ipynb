{
 "cells": [
  {
   "cell_type": "markdown",
   "metadata": {},
   "source": [
    "# 数组\n",
    "\n",
    "数组声明\n",
    "\n",
    "```c\n",
    "double sz[6]\n",
    "```\n",
    "\n",
    "\n",
    "同时定义变量k和数组x,y\n",
    "\n",
    "```c\n",
    "float k,x[10],y[20];\n",
    "```\n",
    "\n",
    "数组名存放的是一个地址常量，代表整个数组的首地址，不能当作普通变量使用。\n",
    "\n",
    "同一数组中的所有元素，按其下标的顺序占用一段连续的存储单元。\n",
    "\n"
   ]
  },
  {
   "cell_type": "code",
   "execution_count": 14,
   "metadata": {
    "vscode": {
     "languageId": "c"
    }
   },
   "outputs": [
    {
     "name": "stdout",
     "output_type": "stream",
     "text": [
      "请依次输入6名学生的成绩平均成绩: 81.7"
     ]
    }
   ],
   "source": [
    "#include <stdio.h>\n",
    "\n",
    "int main()\n",
    "{\n",
    "  int score[6];\n",
    "  int sum = 0;\n",
    "  printf(\"请依次输入6名学生的成绩\");\n",
    "  for (int i = 0; i < 6; i++)\n",
    "  {\n",
    "    scanf(\"%d\", &score[i]);\n",
    "    sum += score[i];\n",
    "  }\n",
    "  double averageScore = sum / 6.0;\n",
    "  printf(\"平均成绩: %.1f\", averageScore);\n",
    "}"
   ]
  },
  {
   "cell_type": "code",
   "execution_count": null,
   "metadata": {
    "vscode": {
     "languageId": "c"
    }
   },
   "outputs": [],
   "source": [
    "#include <stdio.h>\n",
    "\n",
    "int main() {\n",
    "\n",
    "  int n = 10;\n",
    "  // int a[n];\n",
    "  printf(\"%d\", n);\n",
    "  return 0;\n",
    "}"
   ]
  }
 ],
 "metadata": {
  "kernelspec": {
   "display_name": "C",
   "language": "c",
   "name": "c"
  },
  "language_info": {
   "file_extension": ".c",
   "mimetype": "text/x-csrc",
   "name": "text/x-csrc"
  }
 },
 "nbformat": 4,
 "nbformat_minor": 2
}
