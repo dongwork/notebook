{
 "cells": [
  {
   "cell_type": "markdown",
   "metadata": {},
   "source": [
    "# 数组\n",
    "\n",
    "## 一维数组\n",
    "\n",
    "### 一维数组的声明\n",
    "\n",
    "```c\n",
    "类型 数组名 [数组元素个数];\n",
    "```\n",
    "\n",
    "```c\n",
    "double sz[6];\n",
    "```\n",
    "\n",
    "同时定义变量k和数组x,y\n",
    "\n",
    "```c\n",
    "float k,x[10],y[20];\n",
    "```\n",
    "\n",
    "数组名存放的是一个地址常量，代表整个数组的首地址，不能当作普通变量使用。\n",
    "\n",
    "同一数组中的所有元素，按其下标的顺序占用**一段连续的存储单元**。\n"
   ]
  },
  {
   "cell_type": "code",
   "execution_count": 1,
   "metadata": {},
   "outputs": [
    {
     "name": "stdout",
     "output_type": "stream",
     "text": [
      "请依次输入6名学生的成绩"
     ]
    },
    {
     "name": "stdout",
     "output_type": "stream",
     "text": [
      " 63\n",
      " 77\n",
      " 90\n",
      " 74\n",
      " 85\n",
      " 68\n"
     ]
    },
    {
     "name": "stdout",
     "output_type": "stream",
     "text": [
      "平均成绩: 76.2"
     ]
    }
   ],
   "source": [
    "#include <stdio.h>\n",
    "\n",
    "int main()\n",
    "{\n",
    "  int score[6];\n",
    "  int sum = 0;\n",
    "  printf(\"请依次输入6名学生的成绩\");\n",
    "  for (int i = 0; i < 6; i++) {\n",
    "    scanf(\"%d\", &score[i]);\n",
    "    sum += score[i];\n",
    "  }\n",
    "  double averageScore = sum / 6.0;\n",
    "  printf(\"平均成绩: %.1f\", averageScore);\n",
    "}"
   ]
  },
  {
   "cell_type": "markdown",
   "metadata": {},
   "source": [
    "### 数组初始化\n",
    "\n",
    "```c\n",
    "int score[6] = {63, 77, 90, 74, 85, 68};\n",
    "```\n",
    "\n",
    "数组初始化可以省略大小\n",
    "\n",
    "```c\n",
    "int score[] = {63, 77, 90, 74, 85, 68};\n",
    "```"
   ]
  },
  {
   "cell_type": "code",
   "execution_count": 19,
   "metadata": {},
   "outputs": [
    {
     "name": "stdout",
     "output_type": "stream",
     "text": [
      "平均成绩： 76.2"
     ]
    }
   ],
   "source": [
    "#include <stdio.h>\n",
    "\n",
    "int main() {\n",
    "\n",
    "  int score[6] = {63, 77, 90, 74, 85, 68};\n",
    "\n",
    "  int sum = 0;\n",
    "  for (int i = 0; i < 6; i++) {\n",
    "    sum += score[i];\n",
    "  }\n",
    "  double averageScore = sum / 6.0;\n",
    "  printf(\"平均成绩： %.1f\", averageScore);\n",
    "}"
   ]
  },
  {
   "cell_type": "markdown",
   "metadata": {},
   "source": [
    "### 不合法的数组操作\n",
    "\n",
    "1. 用一个已经初始化的数组对另一个数组赋值，是不允许的。\n",
    "\n",
    "```c\n",
    "int x[3] = {7,8,9};\n",
    "int y[3]\n",
    "y = x;   // 错误\n",
    "```\n",
    "\n",
    "2. 对数组进行整体输入输出\n",
    "\n",
    "printf 和 scanf 不支持对普通数组整体输入输出，必须以元素为单位进行操作。\n",
    "但字符数组可以通过指针进行整体输入输出。\n",
    "\n",
    "3. 对数组整体运算\n",
    "\n",
    "```c\n",
    "int x[5] = {5, 6, 7, 8, 9};\n",
    "int y[5] = {2, 3, 4, 5, 7};\n",
    "x += y; // 错误\n",
    "```\n",
    "\n",
    "```c\n",
    "int x[3] = {5, 6, 7};\n",
    "int y[3] = {2, 3, 4};\n",
    "\n",
    "if(x < y){  // 比较数组的首地址大小\n",
    "  ...\n",
    "}\n",
    "```"
   ]
  }
 ],
 "metadata": {
  "kernelspec": {
   "display_name": "C",
   "language": "c",
   "name": "c"
  },
  "language_info": {
   "file_extension": ".c",
   "mimetype": "text/x-csrc",
   "name": "c"
  }
 },
 "nbformat": 4,
 "nbformat_minor": 4
}
