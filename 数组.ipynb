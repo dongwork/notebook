{
 "cells": [
  {
   "cell_type": "markdown",
   "metadata": {},
   "source": [
    "# 数组\n",
    "\n",
    "## 一维数组\n",
    "\n",
    "### 一维数组的声明\n",
    "\n",
    "```c\n",
    "类型 数组名 [数组元素个数];\n",
    "```\n",
    "\n",
    "```c\n",
    "double sz[6];\n",
    "```\n",
    "\n",
    "同时定义变量k和数组x,y\n",
    "\n",
    "```c\n",
    "float k,x[10],y[20];\n",
    "```\n",
    "\n",
    "数组名存放的是一个地址常量，代表整个数组的首地址，不能当作普通变量使用。\n",
    "\n",
    "同一数组中的所有元素，按其下标的顺序占用**一段连续的存储单元**。\n"
   ]
  },
  {
   "cell_type": "code",
   "execution_count": 1,
   "metadata": {},
   "outputs": [
    {
     "name": "stdout",
     "output_type": "stream",
     "text": [
      "请依次输入6名学生的成绩"
     ]
    },
    {
     "name": "stdout",
     "output_type": "stream",
     "text": [
      " 63\n",
      " 77\n",
      " 90\n",
      " 74\n",
      " 85\n",
      " 68\n"
     ]
    },
    {
     "name": "stdout",
     "output_type": "stream",
     "text": [
      "平均成绩: 76.2"
     ]
    }
   ],
   "source": [
    "#include <stdio.h>\n",
    "\n",
    "int main()\n",
    "{\n",
    "  int score[6];\n",
    "  int sum = 0;\n",
    "  printf(\"请依次输入6名学生的成绩\");\n",
    "  for (int i = 0; i < 6; i++) {\n",
    "    scanf(\"%d\", &score[i]);\n",
    "    sum += score[i];\n",
    "  }\n",
    "  double averageScore = sum / 6.0;\n",
    "  printf(\"平均成绩: %.1f\", averageScore);\n",
    "}"
   ]
  },
  {
   "cell_type": "markdown",
   "metadata": {},
   "source": [
    "### 数组初始化\n",
    "\n",
    "```c\n",
    "int score[6] = {63, 77, 90, 74, 85, 68};\n",
    "```\n",
    "\n",
    "数组初始化可以省略大小\n",
    "\n",
    "```c\n",
    "int score[] = {63, 77, 90, 74, 85, 68};\n",
    "```"
   ]
  },
  {
   "cell_type": "code",
   "execution_count": 19,
   "metadata": {},
   "outputs": [
    {
     "name": "stdout",
     "output_type": "stream",
     "text": [
      "平均成绩： 76.2"
     ]
    }
   ],
   "source": [
    "#include <stdio.h>\n",
    "\n",
    "int main() {\n",
    "\n",
    "  int score[6] = {63, 77, 90, 74, 85, 68};\n",
    "\n",
    "  int sum = 0;\n",
    "  for (int i = 0; i < 6; i++) {\n",
    "    sum += score[i];\n",
    "  }\n",
    "  double averageScore = sum / 6.0;\n",
    "  printf(\"平均成绩： %.1f\", averageScore);\n",
    "}"
   ]
  },
  {
   "cell_type": "markdown",
   "metadata": {},
   "source": [
    "### 不合法的数组操作\n",
    "\n",
    "1. 用一个已经初始化的数组对另一个数组赋值，是不允许的。\n",
    "\n",
    "```c\n",
    "int x[3] = {7,8,9};\n",
    "int y[3]\n",
    "y = x;   // 错误\n",
    "```\n",
    "\n",
    "2. 对数组进行整体输入输出\n",
    "\n",
    "printf 和 scanf 不支持对普通数组整体输入输出，必须以元素为单位进行操作。\n",
    "但字符数组可以通过指针进行整体输入输出。\n",
    "\n",
    "3. 对数组整体运算\n",
    "\n",
    "```c\n",
    "int x[5] = {5, 6, 7, 8, 9};\n",
    "int y[5] = {2, 3, 4, 5, 7};\n",
    "x += y; // 错误\n",
    "```\n",
    "\n",
    "```c\n",
    "int x[3] = {5, 6, 7};\n",
    "int y[3] = {2, 3, 4};\n",
    "\n",
    "if(x < y){  // 比较数组的首地址大小\n",
    "  ...\n",
    "}\n",
    "```"
   ]
  },
  {
   "cell_type": "markdown",
   "metadata": {},
   "source": [
    "## 二维数组\n",
    "\n",
    "\n",
    "### 二维数组声明\n",
    "\n",
    "```c\n",
    "int sz [2][3];\n",
    "```\n",
    "\n",
    "```c\n",
    "sz[0][0]\n",
    "sz[0][1]\n",
    "sz[0][2]\n",
    "sz[1][0]\n",
    "sz[1][1]\n",
    "sz[1][2]\n",
    "```\n",
    "\n",
    "### 二维数组的初始化\n",
    "\n",
    "```c\n",
    "int num [2][3] = {{1,2,3},{4,5,6}};\n",
    "```\n",
    "\n",
    "部分元素初始化\n",
    "\n",
    "```c\n",
    "int num[2][3] = {{1},{2}};\n",
    "```\n",
    "\n",
    "> 等价于\n",
    ">\n",
    ">```c\n",
    ">int num[2][3] = {{1,0,0},{2,0,0}};\n",
    ">```\n",
    "\n",
    "二维数组全部初始为0\n",
    "\n",
    "```c\n",
    "int num[2][3] = {0};\n",
    "```\n",
    "\n",
    "声明语句提供全部元素的初始值，第1维可以缺省，对于高维数组，也是只有1维可以省略。\n",
    "```c\n",
    "int num[][3] = {{1,2,3,4},{2,3,4,5},{3,4,5,6}}\n",
    "```"
   ]
  },
  {
   "cell_type": "code",
   "execution_count": 2,
   "metadata": {},
   "outputs": [
    {
     "name": "stdout",
     "output_type": "stream",
     "text": [
      "请依次输入每个学员的3门成绩：格式: 数学 语文 英语\n"
     ]
    },
    {
     "name": "stdout",
     "output_type": "stream",
     "text": [
      " 77 80 90\n",
      " 99 78 77\n",
      " 64 81 95\n",
      " 62 89 63\n",
      " 84 63 80\n",
      " 86 79 74\n"
     ]
    },
    {
     "name": "stdout",
     "output_type": "stream",
     "text": [
      "平均成绩:\n",
      "78.7   78.3   79.8   "
     ]
    }
   ],
   "source": [
    "#include <stdio.h>\n",
    "int main() {\n",
    "  int score[6][3] = {{0}, {0}, {0}};\n",
    "  double sum[3] = {0, 0},\n",
    "         average[3] = {0.0}; // 声明两个数组，用于存储总分和平均分\n",
    "\n",
    "  printf(\"请依次输入每个学员的3门成绩：\");\n",
    "  printf(\"格式: 数学 语文 英语\\n\");\n",
    "\n",
    "  for (int i = 0; i < 6; i++)\n",
    "    for (int j = 0; j < 3; j++) {\n",
    "      scanf(\"%d\", &score[i][j]);\n",
    "      sum[j] += score[i][j];\n",
    "    }\n",
    "  printf(\"平均成绩:\\n\");\n",
    "\n",
    "  for (int k = 0; k < 3; k++) {\n",
    "    average[k] = sum[k] / 6.0;\n",
    "    printf(\"%.1f   \", average[k]);\n",
    "  }\n",
    "}"
   ]
  },
  {
   "cell_type": "markdown",
   "metadata": {},
   "source": [
    "由于多维数组在内存中是线性存储的。元素存放的顺序也是确定的。因此声明一个数组的同时对其初始化，也可以采取下列形式\n",
    "\n",
    "```c\n",
    "int x[3][4] = {1,2,3,4,5,6,7,8,9,10,11,12};\n",
    "```"
   ]
  },
  {
   "cell_type": "code",
   "execution_count": null,
   "metadata": {
    "vscode": {
     "languageId": "c"
    }
   },
   "outputs": [],
   "source": [
    "## 习题\n",
    "\n",
    "输出 a,b,c,d,e,f,g 这几个字符的 ASCII 码。"
   ]
  },
  {
   "cell_type": "code",
   "execution_count": 6,
   "metadata": {
    "vscode": {
     "languageId": "c"
    }
   },
   "outputs": [
    {
     "name": "stdout",
     "output_type": "stream",
     "text": [
      "a 的ASCII码是97\n",
      "b 的ASCII码是98\n",
      "c 的ASCII码是99\n",
      "d 的ASCII码是100\n",
      "e 的ASCII码是101\n",
      "f 的ASCII码是102\n",
      "g 的ASCII码是103\n"
     ]
    }
   ],
   "source": [
    "#include<stdio.h>\n",
    "int main(){\n",
    "  char s [] = \"abcdefg\";\n",
    "  for(int i = 0;i<8;i++)\n",
    "  {\n",
    "    printf(\"%c 的ASCII码是%d\\n\", s[i],s[i]);\n",
    "  }\n",
    "  return 0;\n",
    "}"
   ]
  }
 ],
 "metadata": {
  "kernelspec": {
   "display_name": "C",
   "language": "c",
   "name": "c"
  },
  "language_info": {
   "file_extension": ".c",
   "mimetype": "text/x-csrc",
   "name": "text/x-csrc"
  }
 },
 "nbformat": 4,
 "nbformat_minor": 4
}
